{
 "cells": [
  {
   "cell_type": "markdown",
   "id": "06bdcdfc",
   "metadata": {},
   "source": [
    "# Data Duplicates "
   ]
  },
  {
   "cell_type": "code",
   "execution_count": 1,
   "id": "e9297e35",
   "metadata": {
    "execution": {
     "iopub.execute_input": "2022-01-08T00:55:34.804150Z",
     "iopub.status.busy": "2022-01-08T00:55:34.803327Z",
     "iopub.status.idle": "2022-01-08T00:55:36.574348Z",
     "shell.execute_reply": "2022-01-08T00:55:36.573751Z"
    }
   },
   "outputs": [],
   "source": [
    "from deepchecks.checks.integrity.data_duplicates import DataDuplicates\n",
    "from deepchecks.base import Dataset, Suite\n",
    "from datetime import datetime\n",
    "import pandas as pd\n"
   ]
  },
  {
   "cell_type": "code",
   "execution_count": 2,
   "id": "bbb916b9",
   "metadata": {
    "execution": {
     "iopub.execute_input": "2022-01-08T00:55:36.580473Z",
     "iopub.status.busy": "2022-01-08T00:55:36.579936Z",
     "iopub.status.idle": "2022-01-08T00:55:36.582538Z",
     "shell.execute_reply": "2022-01-08T00:55:36.582903Z"
    }
   },
   "outputs": [],
   "source": [
    "ds = pd.DataFrame({\"col1\":[1,2,1,2,1,2,1,2,1,2], \"col2\":[1,2,1,2,1,2,1,2,1,2],\"col3\":[2,3,4,4,4,3,4,5,6,4]})"
   ]
  },
  {
   "cell_type": "code",
   "execution_count": 3,
   "id": "0c2f4fd4",
   "metadata": {
    "execution": {
     "iopub.execute_input": "2022-01-08T00:55:36.603720Z",
     "iopub.status.busy": "2022-01-08T00:55:36.603232Z",
     "iopub.status.idle": "2022-01-08T00:55:36.620164Z",
     "shell.execute_reply": "2022-01-08T00:55:36.619585Z"
    }
   },
   "outputs": [
    {
     "data": {
      "text/html": [
       "<h4>Data Duplicates</h4>"
      ]
     },
     "metadata": {},
     "output_type": "display_data"
    },
    {
     "data": {
      "text/html": [
       "<p>Search for duplicate data in dataset.</p>"
      ]
     },
     "metadata": {},
     "output_type": "display_data"
    },
    {
     "data": {
      "text/html": [
       "40.00% of data samples are duplicates"
      ]
     },
     "metadata": {},
     "output_type": "display_data"
    },
    {
     "data": {
      "text/html": [
       "Each row in the table shows an example of duplicate data and the number of times it appears."
      ]
     },
     "metadata": {},
     "output_type": "display_data"
    },
    {
     "data": {
      "text/html": [
       "<style type=\"text/css\">\n",
       "#T_0fe27_ table {\n",
       "  text-align: left;\n",
       "}\n",
       "#T_0fe27_ thead {\n",
       "  text-align: left;\n",
       "}\n",
       "#T_0fe27_ tbody {\n",
       "  text-align: left;\n",
       "}\n",
       "#T_0fe27_ th {\n",
       "  text-align: left;\n",
       "}\n",
       "#T_0fe27_ td {\n",
       "  text-align: left;\n",
       "}\n",
       "</style>\n",
       "<table id=\"T_0fe27_\">\n",
       "  <thead>\n",
       "    <tr>\n",
       "      <th class=\"blank\" >&nbsp;</th>\n",
       "      <th class=\"blank level0\" >&nbsp;</th>\n",
       "      <th class=\"col_heading level0 col0\" >col1</th>\n",
       "      <th class=\"col_heading level0 col1\" >col2</th>\n",
       "      <th class=\"col_heading level0 col2\" >col3</th>\n",
       "    </tr>\n",
       "    <tr>\n",
       "      <th class=\"index_name level0\" >Instances</th>\n",
       "      <th class=\"index_name level1\" >Number of Duplicates</th>\n",
       "      <th class=\"blank col0\" >&nbsp;</th>\n",
       "      <th class=\"blank col1\" >&nbsp;</th>\n",
       "      <th class=\"blank col2\" >&nbsp;</th>\n",
       "    </tr>\n",
       "  </thead>\n",
       "  <tbody>\n",
       "    <tr>\n",
       "      <th id=\"T_0fe27_level0_row0\" class=\"row_heading level0 row0\" >2, 4, 6</th>\n",
       "      <th id=\"T_0fe27_level1_row0\" class=\"row_heading level1 row0\" >3</th>\n",
       "      <td id=\"T_0fe27_row0_col0\" class=\"data row0 col0\" >1</td>\n",
       "      <td id=\"T_0fe27_row0_col1\" class=\"data row0 col1\" >1</td>\n",
       "      <td id=\"T_0fe27_row0_col2\" class=\"data row0 col2\" >4</td>\n",
       "    </tr>\n",
       "    <tr>\n",
       "      <th id=\"T_0fe27_level0_row1\" class=\"row_heading level0 row1\" >1, 5</th>\n",
       "      <th id=\"T_0fe27_level1_row1\" class=\"row_heading level1 row1\" >2</th>\n",
       "      <td id=\"T_0fe27_row1_col0\" class=\"data row1 col0\" >2</td>\n",
       "      <td id=\"T_0fe27_row1_col1\" class=\"data row1 col1\" >2</td>\n",
       "      <td id=\"T_0fe27_row1_col2\" class=\"data row1 col2\" >3</td>\n",
       "    </tr>\n",
       "    <tr>\n",
       "      <th id=\"T_0fe27_level0_row2\" class=\"row_heading level0 row2\" >3, 9</th>\n",
       "      <th id=\"T_0fe27_level1_row2\" class=\"row_heading level1 row2\" >2</th>\n",
       "      <td id=\"T_0fe27_row2_col0\" class=\"data row2 col0\" >2</td>\n",
       "      <td id=\"T_0fe27_row2_col1\" class=\"data row2 col1\" >2</td>\n",
       "      <td id=\"T_0fe27_row2_col2\" class=\"data row2 col2\" >4</td>\n",
       "    </tr>\n",
       "  </tbody>\n",
       "</table>\n"
      ]
     },
     "metadata": {},
     "output_type": "display_data"
    }
   ],
   "source": [
    "DataDuplicates().run(ds)"
   ]
  },
  {
   "cell_type": "code",
   "execution_count": 4,
   "id": "8acc767a",
   "metadata": {
    "execution": {
     "iopub.execute_input": "2022-01-08T00:55:36.637100Z",
     "iopub.status.busy": "2022-01-08T00:55:36.636281Z",
     "iopub.status.idle": "2022-01-08T00:55:36.651362Z",
     "shell.execute_reply": "2022-01-08T00:55:36.651783Z"
    }
   },
   "outputs": [
    {
     "data": {
      "text/html": [
       "<h4>Data Duplicates</h4>"
      ]
     },
     "metadata": {},
     "output_type": "display_data"
    },
    {
     "data": {
      "text/html": [
       "<p>Search for duplicate data in dataset.</p>"
      ]
     },
     "metadata": {},
     "output_type": "display_data"
    },
    {
     "data": {
      "text/html": [
       "40.00% of data samples are duplicates"
      ]
     },
     "metadata": {},
     "output_type": "display_data"
    },
    {
     "data": {
      "text/html": [
       "Each row in the table shows an example of duplicate data and the number of times it appears."
      ]
     },
     "metadata": {},
     "output_type": "display_data"
    },
    {
     "data": {
      "text/html": [
       "<style type=\"text/css\">\n",
       "#T_9ea94_ table {\n",
       "  text-align: left;\n",
       "}\n",
       "#T_9ea94_ thead {\n",
       "  text-align: left;\n",
       "}\n",
       "#T_9ea94_ tbody {\n",
       "  text-align: left;\n",
       "}\n",
       "#T_9ea94_ th {\n",
       "  text-align: left;\n",
       "}\n",
       "#T_9ea94_ td {\n",
       "  text-align: left;\n",
       "}\n",
       "</style>\n",
       "<table id=\"T_9ea94_\">\n",
       "  <thead>\n",
       "    <tr>\n",
       "      <th class=\"blank\" >&nbsp;</th>\n",
       "      <th class=\"blank level0\" >&nbsp;</th>\n",
       "      <th class=\"col_heading level0 col0\" >col1</th>\n",
       "      <th class=\"col_heading level0 col1\" >col2</th>\n",
       "      <th class=\"col_heading level0 col2\" >col3</th>\n",
       "    </tr>\n",
       "    <tr>\n",
       "      <th class=\"index_name level0\" >Instances</th>\n",
       "      <th class=\"index_name level1\" >Number of Duplicates</th>\n",
       "      <th class=\"blank col0\" >&nbsp;</th>\n",
       "      <th class=\"blank col1\" >&nbsp;</th>\n",
       "      <th class=\"blank col2\" >&nbsp;</th>\n",
       "    </tr>\n",
       "  </thead>\n",
       "  <tbody>\n",
       "    <tr>\n",
       "      <th id=\"T_9ea94_level0_row0\" class=\"row_heading level0 row0\" >2, 4, 6</th>\n",
       "      <th id=\"T_9ea94_level1_row0\" class=\"row_heading level1 row0\" >3</th>\n",
       "      <td id=\"T_9ea94_row0_col0\" class=\"data row0 col0\" >1</td>\n",
       "      <td id=\"T_9ea94_row0_col1\" class=\"data row0 col1\" >1</td>\n",
       "      <td id=\"T_9ea94_row0_col2\" class=\"data row0 col2\" >4</td>\n",
       "    </tr>\n",
       "    <tr>\n",
       "      <th id=\"T_9ea94_level0_row1\" class=\"row_heading level0 row1\" >1, 5</th>\n",
       "      <th id=\"T_9ea94_level1_row1\" class=\"row_heading level1 row1\" >2</th>\n",
       "      <td id=\"T_9ea94_row1_col0\" class=\"data row1 col0\" >2</td>\n",
       "      <td id=\"T_9ea94_row1_col1\" class=\"data row1 col1\" >2</td>\n",
       "      <td id=\"T_9ea94_row1_col2\" class=\"data row1 col2\" >3</td>\n",
       "    </tr>\n",
       "  </tbody>\n",
       "</table>\n"
      ]
     },
     "metadata": {},
     "output_type": "display_data"
    }
   ],
   "source": [
    "DataDuplicates(n_to_show=2).run(ds)"
   ]
  },
  {
   "cell_type": "code",
   "execution_count": 5,
   "id": "4ac8525f",
   "metadata": {
    "execution": {
     "iopub.execute_input": "2022-01-08T00:55:36.666274Z",
     "iopub.status.busy": "2022-01-08T00:55:36.658361Z",
     "iopub.status.idle": "2022-01-08T00:55:36.675505Z",
     "shell.execute_reply": "2022-01-08T00:55:36.675085Z"
    }
   },
   "outputs": [
    {
     "data": {
      "text/html": [
       "<h4>Data Duplicates</h4>"
      ]
     },
     "metadata": {},
     "output_type": "display_data"
    },
    {
     "data": {
      "text/html": [
       "<p>Search for duplicate data in dataset.</p>"
      ]
     },
     "metadata": {},
     "output_type": "display_data"
    },
    {
     "data": {
      "text/html": [
       "80.00% of data samples are duplicates"
      ]
     },
     "metadata": {},
     "output_type": "display_data"
    },
    {
     "data": {
      "text/html": [
       "Each row in the table shows an example of duplicate data and the number of times it appears."
      ]
     },
     "metadata": {},
     "output_type": "display_data"
    },
    {
     "data": {
      "text/html": [
       "<style type=\"text/css\">\n",
       "#T_25b0d_ table {\n",
       "  text-align: left;\n",
       "}\n",
       "#T_25b0d_ thead {\n",
       "  text-align: left;\n",
       "}\n",
       "#T_25b0d_ tbody {\n",
       "  text-align: left;\n",
       "}\n",
       "#T_25b0d_ th {\n",
       "  text-align: left;\n",
       "}\n",
       "#T_25b0d_ td {\n",
       "  text-align: left;\n",
       "}\n",
       "</style>\n",
       "<table id=\"T_25b0d_\">\n",
       "  <thead>\n",
       "    <tr>\n",
       "      <th class=\"blank\" >&nbsp;</th>\n",
       "      <th class=\"blank level0\" >&nbsp;</th>\n",
       "      <th class=\"col_heading level0 col0\" >col1</th>\n",
       "    </tr>\n",
       "    <tr>\n",
       "      <th class=\"index_name level0\" >Instances</th>\n",
       "      <th class=\"index_name level1\" >Number of Duplicates</th>\n",
       "      <th class=\"blank col0\" >&nbsp;</th>\n",
       "    </tr>\n",
       "  </thead>\n",
       "  <tbody>\n",
       "    <tr>\n",
       "      <th id=\"T_25b0d_level0_row0\" class=\"row_heading level0 row0\" >0, 2, 4, 6, 8</th>\n",
       "      <th id=\"T_25b0d_level1_row0\" class=\"row_heading level1 row0\" >5</th>\n",
       "      <td id=\"T_25b0d_row0_col0\" class=\"data row0 col0\" >1</td>\n",
       "    </tr>\n",
       "    <tr>\n",
       "      <th id=\"T_25b0d_level0_row1\" class=\"row_heading level0 row1\" >1, 3, 5, 7, 9</th>\n",
       "      <th id=\"T_25b0d_level1_row1\" class=\"row_heading level1 row1\" >5</th>\n",
       "      <td id=\"T_25b0d_row1_col0\" class=\"data row1 col0\" >2</td>\n",
       "    </tr>\n",
       "  </tbody>\n",
       "</table>\n"
      ]
     },
     "metadata": {},
     "output_type": "display_data"
    }
   ],
   "source": [
    "DataDuplicates(columns=[\"col1\"]).run(ds)"
   ]
  },
  {
   "cell_type": "code",
   "execution_count": 6,
   "id": "dcb2f344",
   "metadata": {
    "execution": {
     "iopub.execute_input": "2022-01-08T00:55:36.683056Z",
     "iopub.status.busy": "2022-01-08T00:55:36.682572Z",
     "iopub.status.idle": "2022-01-08T00:55:36.703769Z",
     "shell.execute_reply": "2022-01-08T00:55:36.702896Z"
    }
   },
   "outputs": [
    {
     "data": {
      "text/html": [
       "<h4>Data Duplicates</h4>"
      ]
     },
     "metadata": {},
     "output_type": "display_data"
    },
    {
     "data": {
      "text/html": [
       "<p>Search for duplicate data in dataset.</p>"
      ]
     },
     "metadata": {},
     "output_type": "display_data"
    },
    {
     "data": {
      "text/html": [
       "80.00% of data samples are duplicates"
      ]
     },
     "metadata": {},
     "output_type": "display_data"
    },
    {
     "data": {
      "text/html": [
       "Each row in the table shows an example of duplicate data and the number of times it appears."
      ]
     },
     "metadata": {},
     "output_type": "display_data"
    },
    {
     "data": {
      "text/html": [
       "<style type=\"text/css\">\n",
       "#T_7db4c_ table {\n",
       "  text-align: left;\n",
       "}\n",
       "#T_7db4c_ thead {\n",
       "  text-align: left;\n",
       "}\n",
       "#T_7db4c_ tbody {\n",
       "  text-align: left;\n",
       "}\n",
       "#T_7db4c_ th {\n",
       "  text-align: left;\n",
       "}\n",
       "#T_7db4c_ td {\n",
       "  text-align: left;\n",
       "}\n",
       "</style>\n",
       "<table id=\"T_7db4c_\">\n",
       "  <thead>\n",
       "    <tr>\n",
       "      <th class=\"blank\" >&nbsp;</th>\n",
       "      <th class=\"blank level0\" >&nbsp;</th>\n",
       "      <th class=\"col_heading level0 col0\" >col1</th>\n",
       "      <th class=\"col_heading level0 col1\" >col2</th>\n",
       "    </tr>\n",
       "    <tr>\n",
       "      <th class=\"index_name level0\" >Instances</th>\n",
       "      <th class=\"index_name level1\" >Number of Duplicates</th>\n",
       "      <th class=\"blank col0\" >&nbsp;</th>\n",
       "      <th class=\"blank col1\" >&nbsp;</th>\n",
       "    </tr>\n",
       "  </thead>\n",
       "  <tbody>\n",
       "    <tr>\n",
       "      <th id=\"T_7db4c_level0_row0\" class=\"row_heading level0 row0\" >0, 2, 4, 6, 8</th>\n",
       "      <th id=\"T_7db4c_level1_row0\" class=\"row_heading level1 row0\" >5</th>\n",
       "      <td id=\"T_7db4c_row0_col0\" class=\"data row0 col0\" >1</td>\n",
       "      <td id=\"T_7db4c_row0_col1\" class=\"data row0 col1\" >1</td>\n",
       "    </tr>\n",
       "    <tr>\n",
       "      <th id=\"T_7db4c_level0_row1\" class=\"row_heading level0 row1\" >1, 3, 5, 7, 9</th>\n",
       "      <th id=\"T_7db4c_level1_row1\" class=\"row_heading level1 row1\" >5</th>\n",
       "      <td id=\"T_7db4c_row1_col0\" class=\"data row1 col0\" >2</td>\n",
       "      <td id=\"T_7db4c_row1_col1\" class=\"data row1 col1\" >2</td>\n",
       "    </tr>\n",
       "  </tbody>\n",
       "</table>\n"
      ]
     },
     "metadata": {},
     "output_type": "display_data"
    }
   ],
   "source": [
    "DataDuplicates(ignore_columns=[\"col3\"]).run(ds)"
   ]
  },
  {
   "cell_type": "code",
   "execution_count": 7,
   "id": "56284ded",
   "metadata": {
    "execution": {
     "iopub.execute_input": "2022-01-08T00:55:36.709616Z",
     "iopub.status.busy": "2022-01-08T00:55:36.708925Z",
     "iopub.status.idle": "2022-01-08T00:55:36.711400Z",
     "shell.execute_reply": "2022-01-08T00:55:36.710946Z"
    }
   },
   "outputs": [],
   "source": [
    "ds_no_dups = ds = pd.DataFrame({\"col1\":[1,2,1,2,1,2,1,2,1,2], \"col2\":[1,2,1,2,1,2,1,2,1,2], \"col3\":[1,2,3,4,5,6,7,8,9,0]})"
   ]
  },
  {
   "cell_type": "code",
   "execution_count": 8,
   "id": "bca536fd",
   "metadata": {
    "execution": {
     "iopub.execute_input": "2022-01-08T00:55:36.716619Z",
     "iopub.status.busy": "2022-01-08T00:55:36.716082Z",
     "iopub.status.idle": "2022-01-08T00:55:36.725403Z",
     "shell.execute_reply": "2022-01-08T00:55:36.725796Z"
    }
   },
   "outputs": [
    {
     "data": {
      "text/html": [
       "<h4>Data Duplicates</h4>"
      ]
     },
     "metadata": {},
     "output_type": "display_data"
    },
    {
     "data": {
      "text/html": [
       "<p>Search for duplicate data in dataset.</p>"
      ]
     },
     "metadata": {},
     "output_type": "display_data"
    },
    {
     "data": {
      "text/html": [
       "<p><b>&#x2713;</b> Nothing found</p>"
      ]
     },
     "metadata": {},
     "output_type": "display_data"
    }
   ],
   "source": [
    "DataDuplicates().run(ds_no_dups)"
   ]
  },
  {
   "cell_type": "code",
   "execution_count": 9,
   "id": "7716ca9d",
   "metadata": {
    "execution": {
     "iopub.execute_input": "2022-01-08T00:55:36.731633Z",
     "iopub.status.busy": "2022-01-08T00:55:36.731127Z",
     "iopub.status.idle": "2022-01-08T00:55:36.752729Z",
     "shell.execute_reply": "2022-01-08T00:55:36.753119Z"
    }
   },
   "outputs": [
    {
     "data": {
      "text/html": [
       "<h4>Data Duplicates</h4>"
      ]
     },
     "metadata": {},
     "output_type": "display_data"
    },
    {
     "data": {
      "text/html": [
       "<p>Search for duplicate data in dataset.</p>"
      ]
     },
     "metadata": {},
     "output_type": "display_data"
    },
    {
     "data": {
      "text/html": [
       "80.00% of data samples are duplicates"
      ]
     },
     "metadata": {},
     "output_type": "display_data"
    },
    {
     "data": {
      "text/html": [
       "Each row in the table shows an example of duplicate data and the number of times it appears."
      ]
     },
     "metadata": {},
     "output_type": "display_data"
    },
    {
     "data": {
      "text/html": [
       "<style type=\"text/css\">\n",
       "#T_6c319_ table {\n",
       "  text-align: left;\n",
       "}\n",
       "#T_6c319_ thead {\n",
       "  text-align: left;\n",
       "}\n",
       "#T_6c319_ tbody {\n",
       "  text-align: left;\n",
       "}\n",
       "#T_6c319_ th {\n",
       "  text-align: left;\n",
       "}\n",
       "#T_6c319_ td {\n",
       "  text-align: left;\n",
       "}\n",
       "</style>\n",
       "<table id=\"T_6c319_\">\n",
       "  <thead>\n",
       "    <tr>\n",
       "      <th class=\"blank\" >&nbsp;</th>\n",
       "      <th class=\"blank level0\" >&nbsp;</th>\n",
       "      <th class=\"col_heading level0 col0\" >col1</th>\n",
       "      <th class=\"col_heading level0 col1\" >col2</th>\n",
       "    </tr>\n",
       "    <tr>\n",
       "      <th class=\"index_name level0\" >Instances</th>\n",
       "      <th class=\"index_name level1\" >Number of Duplicates</th>\n",
       "      <th class=\"blank col0\" >&nbsp;</th>\n",
       "      <th class=\"blank col1\" >&nbsp;</th>\n",
       "    </tr>\n",
       "  </thead>\n",
       "  <tbody>\n",
       "    <tr>\n",
       "      <th id=\"T_6c319_level0_row0\" class=\"row_heading level0 row0\" >0, 2, 4, 6, 8</th>\n",
       "      <th id=\"T_6c319_level1_row0\" class=\"row_heading level1 row0\" >5</th>\n",
       "      <td id=\"T_6c319_row0_col0\" class=\"data row0 col0\" >1</td>\n",
       "      <td id=\"T_6c319_row0_col1\" class=\"data row0 col1\" >1</td>\n",
       "    </tr>\n",
       "    <tr>\n",
       "      <th id=\"T_6c319_level0_row1\" class=\"row_heading level0 row1\" >1, 3, 5, 7, 9</th>\n",
       "      <th id=\"T_6c319_level1_row1\" class=\"row_heading level1 row1\" >5</th>\n",
       "      <td id=\"T_6c319_row1_col0\" class=\"data row1 col0\" >2</td>\n",
       "      <td id=\"T_6c319_row1_col1\" class=\"data row1 col1\" >2</td>\n",
       "    </tr>\n",
       "  </tbody>\n",
       "</table>\n"
      ]
     },
     "metadata": {},
     "output_type": "display_data"
    }
   ],
   "source": [
    "DataDuplicates(ignore_columns=[\"col3\"]).run(ds_no_dups)"
   ]
  }
 ],
 "metadata": {
  "kernelspec": {
   "display_name": "Python 3 (ipykernel)",
   "language": "python",
   "name": "python3"
  },
  "language_info": {
   "codemirror_mode": {
    "name": "ipython",
    "version": 3
   },
   "file_extension": ".py",
   "mimetype": "text/x-python",
   "name": "python",
   "nbconvert_exporter": "python",
   "pygments_lexer": "ipython3",
   "version": "3.9.9"
  }
 },
 "nbformat": 4,
 "nbformat_minor": 5
}
