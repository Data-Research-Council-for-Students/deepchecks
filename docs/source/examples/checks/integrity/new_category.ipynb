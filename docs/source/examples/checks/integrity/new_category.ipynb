{
 "cells": [
  {
   "cell_type": "markdown",
   "id": "9fb912a1",
   "metadata": {},
   "source": [
    "# New Category "
   ]
  },
  {
   "cell_type": "code",
   "execution_count": 1,
   "id": "b6c42074",
   "metadata": {
    "execution": {
     "iopub.execute_input": "2022-01-08T00:56:02.139701Z",
     "iopub.status.busy": "2022-01-08T00:56:02.138878Z",
     "iopub.status.idle": "2022-01-08T00:56:03.883847Z",
     "shell.execute_reply": "2022-01-08T00:56:03.884314Z"
    }
   },
   "outputs": [],
   "source": [
    "from deepchecks.checks.integrity.new_category import CategoryMismatchTrainTest\n",
    "from deepchecks.base import Dataset\n",
    "import pandas as pd"
   ]
  },
  {
   "cell_type": "code",
   "execution_count": 2,
   "id": "ee76ed5c",
   "metadata": {
    "execution": {
     "iopub.execute_input": "2022-01-08T00:56:03.891361Z",
     "iopub.status.busy": "2022-01-08T00:56:03.890162Z",
     "iopub.status.idle": "2022-01-08T00:56:03.894217Z",
     "shell.execute_reply": "2022-01-08T00:56:03.893746Z"
    }
   },
   "outputs": [],
   "source": [
    "train_data = {\"col1\": [\"somebody\", \"once\", \"told\", \"me\"] * 10}\n",
    "test_data = {\"col1\": [\"the\",\"world\",\"is\", \"gonna\", \"role\", \"me\",\"I\", \"I\"] * 10}\n",
    "train = Dataset(pd.DataFrame(data=train_data), cat_features=[\"col1\"])\n",
    "test = Dataset(pd.DataFrame(data=test_data), cat_features=[\"col1\"])"
   ]
  },
  {
   "cell_type": "code",
   "execution_count": 3,
   "id": "3171fe14",
   "metadata": {
    "execution": {
     "iopub.execute_input": "2022-01-08T00:56:03.903345Z",
     "iopub.status.busy": "2022-01-08T00:56:03.902841Z",
     "iopub.status.idle": "2022-01-08T00:56:03.915373Z",
     "shell.execute_reply": "2022-01-08T00:56:03.916230Z"
    }
   },
   "outputs": [
    {
     "data": {
      "text/html": [
       "<h4>Category Mismatch Train Test</h4>"
      ]
     },
     "metadata": {},
     "output_type": "display_data"
    },
    {
     "data": {
      "text/html": [
       "<p>Find new categories in the test set.</p>"
      ]
     },
     "metadata": {},
     "output_type": "display_data"
    },
    {
     "data": {
      "text/html": [
       "<style type=\"text/css\">\n",
       "#T_07415_ table {\n",
       "  text-align: left;\n",
       "}\n",
       "#T_07415_ thead {\n",
       "  text-align: left;\n",
       "}\n",
       "#T_07415_ tbody {\n",
       "  text-align: left;\n",
       "}\n",
       "#T_07415_ th {\n",
       "  text-align: left;\n",
       "}\n",
       "#T_07415_ td {\n",
       "  text-align: left;\n",
       "}\n",
       "</style>\n",
       "<table id=\"T_07415_\">\n",
       "  <thead>\n",
       "    <tr>\n",
       "      <th class=\"blank level0\" >&nbsp;</th>\n",
       "      <th class=\"col_heading level0 col0\" >Number of new categories</th>\n",
       "      <th class=\"col_heading level0 col1\" >Percent of new categories in sample</th>\n",
       "      <th class=\"col_heading level0 col2\" >New categories examples</th>\n",
       "    </tr>\n",
       "    <tr>\n",
       "      <th class=\"index_name level0\" >Column</th>\n",
       "      <th class=\"blank col0\" >&nbsp;</th>\n",
       "      <th class=\"blank col1\" >&nbsp;</th>\n",
       "      <th class=\"blank col2\" >&nbsp;</th>\n",
       "    </tr>\n",
       "  </thead>\n",
       "  <tbody>\n",
       "    <tr>\n",
       "      <th id=\"T_07415_level0_row0\" class=\"row_heading level0 row0\" >col1</th>\n",
       "      <td id=\"T_07415_row0_col0\" class=\"data row0 col0\" >6</td>\n",
       "      <td id=\"T_07415_row0_col1\" class=\"data row0 col1\" >87.50%</td>\n",
       "      <td id=\"T_07415_row0_col2\" class=\"data row0 col2\" >['I', 'gonna', 'is', 'role', 'the']</td>\n",
       "    </tr>\n",
       "  </tbody>\n",
       "</table>\n"
      ]
     },
     "metadata": {},
     "output_type": "display_data"
    }
   ],
   "source": [
    "CategoryMismatchTrainTest().run(train, test)"
   ]
  },
  {
   "cell_type": "code",
   "execution_count": 4,
   "id": "7536f60c",
   "metadata": {
    "execution": {
     "iopub.execute_input": "2022-01-08T00:56:03.929647Z",
     "iopub.status.busy": "2022-01-08T00:56:03.928633Z",
     "iopub.status.idle": "2022-01-08T00:56:03.930186Z",
     "shell.execute_reply": "2022-01-08T00:56:03.929137Z"
    }
   },
   "outputs": [],
   "source": [
    "train_data = {\"col1\": [\"a\", \"b\", \"a\", \"c\"] * 10, \"col2\": ['a','b','b','q']*10}\n",
    "test_data = {\"col1\": [\"a\",\"b\",\"d\"] * 10, \"col2\": ['a', '2', '1']*10}\n",
    "train = Dataset(pd.DataFrame(data=train_data), cat_features=[\"col1\",\"col2\"])\n",
    "test = Dataset(pd.DataFrame(data=test_data), cat_features=[\"col1\", \"col2\"])"
   ]
  },
  {
   "cell_type": "code",
   "execution_count": 5,
   "id": "b81bc4a1",
   "metadata": {
    "execution": {
     "iopub.execute_input": "2022-01-08T00:56:03.939915Z",
     "iopub.status.busy": "2022-01-08T00:56:03.939348Z",
     "iopub.status.idle": "2022-01-08T00:56:03.950577Z",
     "shell.execute_reply": "2022-01-08T00:56:03.950141Z"
    }
   },
   "outputs": [
    {
     "data": {
      "text/html": [
       "<h4>Category Mismatch Train Test</h4>"
      ]
     },
     "metadata": {},
     "output_type": "display_data"
    },
    {
     "data": {
      "text/html": [
       "<p>Find new categories in the test set.</p>"
      ]
     },
     "metadata": {},
     "output_type": "display_data"
    },
    {
     "data": {
      "text/html": [
       "<style type=\"text/css\">\n",
       "#T_7ab17_ table {\n",
       "  text-align: left;\n",
       "}\n",
       "#T_7ab17_ thead {\n",
       "  text-align: left;\n",
       "}\n",
       "#T_7ab17_ tbody {\n",
       "  text-align: left;\n",
       "}\n",
       "#T_7ab17_ th {\n",
       "  text-align: left;\n",
       "}\n",
       "#T_7ab17_ td {\n",
       "  text-align: left;\n",
       "}\n",
       "</style>\n",
       "<table id=\"T_7ab17_\">\n",
       "  <thead>\n",
       "    <tr>\n",
       "      <th class=\"blank level0\" >&nbsp;</th>\n",
       "      <th class=\"col_heading level0 col0\" >Number of new categories</th>\n",
       "      <th class=\"col_heading level0 col1\" >Percent of new categories in sample</th>\n",
       "      <th class=\"col_heading level0 col2\" >New categories examples</th>\n",
       "    </tr>\n",
       "    <tr>\n",
       "      <th class=\"index_name level0\" >Column</th>\n",
       "      <th class=\"blank col0\" >&nbsp;</th>\n",
       "      <th class=\"blank col1\" >&nbsp;</th>\n",
       "      <th class=\"blank col2\" >&nbsp;</th>\n",
       "    </tr>\n",
       "  </thead>\n",
       "  <tbody>\n",
       "    <tr>\n",
       "      <th id=\"T_7ab17_level0_row0\" class=\"row_heading level0 row0\" >col1</th>\n",
       "      <td id=\"T_7ab17_row0_col0\" class=\"data row0 col0\" >1</td>\n",
       "      <td id=\"T_7ab17_row0_col1\" class=\"data row0 col1\" >33.33%</td>\n",
       "      <td id=\"T_7ab17_row0_col2\" class=\"data row0 col2\" >['d']</td>\n",
       "    </tr>\n",
       "    <tr>\n",
       "      <th id=\"T_7ab17_level0_row1\" class=\"row_heading level0 row1\" >col2</th>\n",
       "      <td id=\"T_7ab17_row1_col0\" class=\"data row1 col0\" >2</td>\n",
       "      <td id=\"T_7ab17_row1_col1\" class=\"data row1 col1\" >66.67%</td>\n",
       "      <td id=\"T_7ab17_row1_col2\" class=\"data row1 col2\" >['1', '2']</td>\n",
       "    </tr>\n",
       "  </tbody>\n",
       "</table>\n"
      ]
     },
     "metadata": {},
     "output_type": "display_data"
    }
   ],
   "source": [
    "CategoryMismatchTrainTest().run(train, test)"
   ]
  }
 ],
 "metadata": {
  "kernelspec": {
   "display_name": "Python 3 (ipykernel)",
   "language": "python",
   "name": "python3"
  },
  "language_info": {
   "codemirror_mode": {
    "name": "ipython",
    "version": 3
   },
   "file_extension": ".py",
   "mimetype": "text/x-python",
   "name": "python",
   "nbconvert_exporter": "python",
   "pygments_lexer": "ipython3",
   "version": "3.9.9"
  }
 },
 "nbformat": 4,
 "nbformat_minor": 5
}
